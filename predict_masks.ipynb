{
 "cells": [
  {
   "cell_type": "code",
   "execution_count": null,
   "metadata": {},
   "outputs": [],
   "source": [
    "from tensorflow.keras.models import load_model\n",
    "from model_unet import dice_coef\n",
    "\n",
    "def load_model1():\n",
    "    return load_model('model-dsbowl2018-1.h5', custom_objects={'dice_coef': dice_coef})\n",
    "\n",
    "def predict_masks(model, X_test):\n",
    "    model = load_model1()\n",
    "    return model.predict(X_test, verbose=1)\n",
    "\n",
    "if __name__ == '__main__':\n",
    "        \n",
    "    IMG_HEIGHT = 128\n",
    "    IMG_WIDTH = 128\n",
    "    IMG_CHANNELS = 3   \n",
    "    model = load_model1()\n",
    "    X_train, Y_train, X_test = load_data(IMG_HEIGHT, IMG_WIDTH, IMG_CHANNELS)\n",
    "    preds_test = model.predict_masks(X_test, verbose=1)\n",
    "    \n",
    "    def plot_sample(X_test, preds_test, ix=None):\n",
    "        \n",
    "        if ix is None:\n",
    "            ix = random.randint(0, len(X_test))\n",
    "        has_mask = preds_test[ix].max() > 0\n",
    "\n",
    "        fig, ax = plt.subplots(1, 2, figsize=(20, 10))\n",
    "        ax[0].imshow(X_test[ix, ..., 0], cmap='seismic')\n",
    "        ax[0].set_title('Seismic')\n",
    "\n",
    "        ax[1].imshow(preds_test[ix].squeeze(), vmin=0, vmax=1)\n",
    "        ax[1].set_title('Salt Predicted');\n",
    "        plot_sample(X_test, preds_test, ix=None)"
   ]
  }
 ],
 "metadata": {
  "kernelspec": {
   "display_name": "Python 3",
   "language": "python",
   "name": "python3"
  },
  "language_info": {
   "codemirror_mode": {
    "name": "ipython",
    "version": 3
   },
   "file_extension": ".py",
   "mimetype": "text/x-python",
   "name": "python",
   "nbconvert_exporter": "python",
   "pygments_lexer": "ipython3",
   "version": "3.7.9"
  }
 },
 "nbformat": 4,
 "nbformat_minor": 4
}
