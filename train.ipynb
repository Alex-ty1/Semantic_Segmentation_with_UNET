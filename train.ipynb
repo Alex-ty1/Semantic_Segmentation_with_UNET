{
 "cells": [
  {
   "cell_type": "code",
   "execution_count": null,
   "metadata": {},
   "outputs": [],
   "source": [
    "from keras.callbacks import EarlyStopping, ModelCheckpoint\n",
    "\n",
    "def train(model, X_train, Y_train, validation_split=0.1, batch_size=16, epochs=50):\n",
    "    earlystopper = EarlyStopping(patience=5, verbose=1)\n",
    "    checkpointer = ModelCheckpoint('model-dsbowl2018-1.h5', verbose=1, save_best_only=True)\n",
    "    return  model.fit(X_train, Y_train, validation_split=0.1, batch_size=16, epochs=50, \n",
    "                      callbacks=[earlystopper, checkpointer])\n",
    "    \n",
    "\n",
    "if __name__ == '__main__':\n",
    "    \n",
    "    from model_unet import model_unet, dice_coef\n",
    "    from preprocessing import load_data, plot_example\n",
    "    \n",
    "    IMG_HEIGHT = 128\n",
    "    IMG_WIDTH = 128\n",
    "    IMG_CHANNELS = 3\n",
    "    TRAIN_PATH ='train_images' \n",
    "    TEST_PATH ='test_images' # image path\n",
    "    train_ids = next(os.walk(TRAIN_PATH))[1]\n",
    "    test_ids = next(os.walk(TEST_PATH))[1]\n",
    "    X_train, Y_train, X_test = load_data(IMG_HEIGHT, IMG_WIDTH, IMG_CHANNELS)\n",
    "    model = model_unet(IMG_HEIGHT, IMG_WIDTH, IMG_CHANNELS)\n",
    "    train(model, X_train, Y_train)"
   ]
  }
 ],
 "metadata": {
  "kernelspec": {
   "display_name": "Python 3",
   "language": "python",
   "name": "python3"
  },
  "language_info": {
   "codemirror_mode": {
    "name": "ipython",
    "version": 3
   },
   "file_extension": ".py",
   "mimetype": "text/x-python",
   "name": "python",
   "nbconvert_exporter": "python",
   "pygments_lexer": "ipython3",
   "version": "3.7.9"
  }
 },
 "nbformat": 4,
 "nbformat_minor": 4
}
